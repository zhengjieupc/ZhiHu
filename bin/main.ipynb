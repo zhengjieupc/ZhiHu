{
 "cells": [
  {
   "cell_type": "code",
   "execution_count": 1,
   "metadata": {
    "collapsed": false
   },
   "outputs": [],
   "source": [
    "import tensorflow as tf\n",
    "import numpy as np\n",
    "import gensim\n",
    "from six.moves import cPickle as pickle"
   ]
  },
  {
   "cell_type": "code",
   "execution_count": 2,
   "metadata": {
    "collapsed": true
   },
   "outputs": [],
   "source": [
    "# define filter parameter \n",
    "WordVec_Length = 50\n",
    "WordVec_Depth = 1\n",
    "\n",
    "Filter_Length = WordVec_Length\n",
    "Filter_Width = 3\n",
    "num_channels = WordVec_Depth\n",
    "\n",
    "# define filter depth, then equal next layer filter_curmat_depth\n",
    "Filter_Depth = 18\n"
   ]
  },
  {
   "cell_type": "code",
   "execution_count": 3,
   "metadata": {
    "collapsed": true
   },
   "outputs": [],
   "source": [
    "def reformat(dataset, labels):\n",
    "    dataset = dataset.reshape(\n",
    "        (-1, WordVec_Length, Word_Length_Ddfault * 2,num_channels)).astype(np.float32)\n",
    "    \n",
    "    return dataset"
   ]
  },
  {
   "cell_type": "code",
   "execution_count": null,
   "metadata": {
    "collapsed": true
   },
   "outputs": [],
   "source": [
    "def reAdd(dataset,Filter_Width):\n",
    "    # give pairs's distance,then distance = Filter_Length * File_Width \n",
    "    # and  return real input data x  =   [None, WordVec_Length, Word_Length_Ddfault * 2 + Filter_Length,num_channels]\n",
    "    b = np.zeros([Filter_Length,Filter_Width,num_channels])\n",
    "    return np.insert(dataset, Word_Length_Ddfault, values=b, axis=1)\n",
    "    "
   ]
  },
  {
   "cell_type": "code",
   "execution_count": 4,
   "metadata": {
    "collapsed": true
   },
   "outputs": [],
   "source": [
    "# one question 's max word length\n",
    "Word_Length_Ddfault = 200\n",
    "BatchSize = 50\n",
    "\n",
    "x = tf.placeholder(tf.float32,[BatchSize, WordVec_Length, Word_Length_Ddfault * 2 + Filter_Length,num_channels],name='x-input1')\n",
    "#  dimension[0] is batch size,dim[1] and dim[2] means pairs's size,dim[3] is depth of pairs"
   ]
  },
  {
   "cell_type": "code",
   "execution_count": 5,
   "metadata": {
    "collapsed": false
   },
   "outputs": [],
   "source": [
    "#def inference(input_tensor):\n",
    "with tf.variable_scope('layer1-conv1'):\n",
    "    \n",
    "    conv1_filter_weights = tf.get_variable('weight',\n",
    "                                          [Filter_Length,Filter_Width,num_channels,Filter_Depth],\n",
    "                                          initializer=tf.truncated_normal_initializer(stddev=0.1))\n",
    "\n",
    "    biases1 = tf.get_variable('biases',[Filter_Depth],initializer=tf.constant_initializer(0.1))\n",
    "\n",
    "    conv1 = tf.nn.conv2d(x, conv1_filter_weights, strides = [1,1,1,1],padding='VALID')\n",
    "\n",
    "    bias1 = tf.nn.bias_add(conv1, biases1)\n",
    "\n",
    "    actived_conv1 = tf.nn.relu(bias1)\n",
    "    \n",
    "    # NEXT STEP: MAXPOOL 定义 两个不需要训练的变量，maxpool ()\n",
    "    # 定义一个需要训练的矩阵M\n",
    "    # 两个变量矩阵相乘\n",
    "    # 拉直拼接\n",
    "    # 全连接\n",
    "    # softmax\n",
    "    \n",
    "\n",
    "    \n",
    "        "
   ]
  },
  {
   "cell_type": "code",
   "execution_count": null,
   "metadata": {
    "collapsed": true
   },
   "outputs": [],
   "source": [
    "# read dataset\n",
    "def openFile():\n",
    "    pickle_file = 'dataset.pickle'\n",
    "    with open(pickle_file, 'rb') as f:\n",
    "        data = pickle.load(f)\n",
    "        ##第一个句子的样本矩阵为np.ndarray((samplesize, 300, 50), dtype=np.float32))\n",
    "        train_dataset1 = data['train_dataset1'] \n",
    "        ##第二个句子的样本矩阵为np.ndarray((samplesize, 300, 50), dtype=np.float32))\n",
    "        train_dataset2 = data['train_dataset2']\n",
    "        ##类别标识np.ndarray((samplesize, dtype = np.int32))\n",
    "        train_labels = data['train_labels']\n",
    "        ##验证集\n",
    "        valid_dataset1 = data['valid_dataset1'] \n",
    "        valid_dataset2 = data['valid_dataset2']\n",
    "        valid_labels = data['valid_labels']\n",
    "        ##测试集\n",
    "        test_dataset1 = data['test_dataset1'] \n",
    "        test_dataset2 = data['test_dataset2']"
   ]
  }
 ],
 "metadata": {
  "kernelspec": {
   "display_name": "Python 2",
   "language": "python",
   "name": "python2"
  },
  "language_info": {
   "codemirror_mode": {
    "name": "ipython",
    "version": 2
   },
   "file_extension": ".py",
   "mimetype": "text/x-python",
   "name": "python",
   "nbconvert_exporter": "python",
   "pygments_lexer": "ipython2",
   "version": "2.7.10"
  }
 },
 "nbformat": 4,
 "nbformat_minor": 0
}
