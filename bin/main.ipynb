{
 "cells": [
  {
   "cell_type": "code",
   "execution_count": 1,
   "metadata": {
    "collapsed": false
   },
   "outputs": [],
   "source": [
    "import tensorflow as tf\n",
    "import numpy as np\n",
    "import gensim\n",
    "import sys\n",
    "import datetime,time\n",
    "from six.moves import cPickle as pickle"
   ]
  },
  {
   "cell_type": "code",
   "execution_count": 2,
   "metadata": {
    "collapsed": true
   },
   "outputs": [],
   "source": [
    "def log_time_model(s):\n",
    "    now = datetime.datetime.now()\n",
    "    print \"[%s][%s.%s][%s]\" %(time.strftime('%Y-%m-%d %H-%M-%S', time.localtime(time.time())), now.second, now.    microsecond, s)"
   ]
  },
  {
   "cell_type": "code",
   "execution_count": 4,
   "metadata": {
    "collapsed": true
   },
   "outputs": [],
   "source": [
    "def reformat(dataset, labels):\n",
    "    dataset = dataset.reshape(\n",
    "        (-1, WordVec_Length, Word_Length_Default * 2,num_channels)).astype(np.float32)\n",
    "    return dataset"
   ]
  },
  {
   "cell_type": "code",
   "execution_count": 5,
   "metadata": {
    "collapsed": true
   },
   "outputs": [],
   "source": [
    "def reAdd(dataset,Filter_Width):\n",
    "    # give pairs's distance,then distance = Filter_Length * File_Width \n",
    "    # and  return real input data x  =   [None, WordVec_Length, Word_Length_Default * 2 + Filter_Length,num_channels]\n",
    "    b = np.zeros([Filter_Length,Filter_Width,num_channels])\n",
    "    return np.insert(dataset, Word_Length_Default, values=b, axis=1)\n",
    "    "
   ]
  },
  {
   "cell_type": "code",
   "execution_count": 6,
   "metadata": {
    "collapsed": true
   },
   "outputs": [],
   "source": [
    "def accuracy(predictions, labels):\n",
    "    return (100.0 * np.sum(np.argmax(predictions, 1) == np.argmax(labels, 1)) / predictions.shape[0])"
   ]
  },
  {
   "cell_type": "code",
   "execution_count": 7,
   "metadata": {
    "collapsed": false
   },
   "outputs": [
    {
     "name": "stdout",
     "output_type": "stream",
     "text": [
      "[2017-04-23 17-32-26][26.630982][x.shape()(2, 50, 103, 1)]\n"
     ]
    }
   ],
   "source": [
    "# define wordvec parameter \n",
    "WordVec_Length = 50\n",
    "WordVec_Depth = 1\n",
    "\n",
    "# define batch size \n",
    "BatchSize = 2\n",
    "\n",
    "# define filter parameter\n",
    "Filter_Length = WordVec_Length\n",
    "Filter_Width = 3\n",
    "num_channels = WordVec_Depth\n",
    "### define filter depth, then equal next layer filter_curmat_depth\n",
    "Filter_Depth = 9\n",
    "\n",
    "# one question 's max word length , is equal with lenth of sentence. >50 的 sentence\n",
    "Word_Length_Default = 50\n",
    "# dim(y)\n",
    "num_labels = 2\n",
    "\n",
    "x = tf.placeholder(tf.float32,[BatchSize, Word_Length_Default * 2 + Filter_Width, WordVec_Length,num_channels],\n",
    "                   name='x-input')\n",
    "#  dimension[0] is batch size,dim[1] and dim[2] means pairs's size,dim[3] is depth of pairs\n",
    "y = tf.placeholder(tf.float32, shape=(BatchSize, num_labels),name='y-input')\n",
    "\n",
    "\n",
    "valid_x = tf.constant(valid_dataset)\n",
    "valid_label = tf.constant(valid_labels)\n",
    "test_x = tf.constant(test_dataset)\n",
    "\n",
    "log_time_model(\"x.shape()\" + str(x.get_shape()))\n"
   ]
  },
  {
   "cell_type": "code",
   "execution_count": 8,
   "metadata": {
    "collapsed": false
   },
   "outputs": [
    {
     "name": "stdout",
     "output_type": "stream",
     "text": [
      "[2017-04-23 17-32-26][26.873075][conv1_filter_weights = (50, 3, 1, 9)]\n",
      "[2017-04-23 17-32-26][26.877523][biases1 = (9,)]\n",
      "[2017-04-23 17-32-26][26.879547][conv1 = (2, 1, 101, 9)]\n",
      "[2017-04-23 17-32-26][26.880758][bias1 = (2, 1, 101, 9)]\n",
      "[2017-04-23 17-32-26][26.881589][actived_conv1 = (2, 1, 101, 9)]\n",
      "[2017-04-23 17-32-26][26.881620][101]\n",
      "[2017-04-23 17-32-26][26.890663][begin: 0:48]\n",
      "[2017-04-23 17-32-26][26.898382][begin:54:101]\n",
      "[2017-04-23 17-32-26][26.898439][pool1.get_shape() = (2, 1, 1, 9)]\n",
      "[2017-04-23 17-32-26][26.898469][pool2.get_shape() = (2, 1, 1, 9)]\n",
      "[2017-04-23 17-32-26][26.908185][simM = (9, 9)]\n",
      "[2017-04-23 17-32-26][26.911109][pool1.get_shape() = (2, 9)]\n",
      "[2017-04-23 17-32-26][26.912573][simmat1 shape = (2, 9)]\n",
      "[2017-04-23 17-32-26][26.915291][simmat reshape = (2, 1, 1, 9)]\n",
      "[2017-04-23 17-32-26][26.915336][pool2.get_shape() = (2, 1, 1, 9)]\n",
      "[2017-04-23 17-32-26][26.922973][pool1.get_shape() = (2, 9)]\n",
      "[2017-04-23 17-32-26][26.923027][ pool2 shape = (2, 9)]\n",
      "[2017-04-23 17-32-26][26.923054][ simmat shape = (2, 1)]\n",
      "[2017-04-23 17-32-26][26.925887][ out shape = (2, 19)]\n",
      "[2017-04-23 17-32-26][26.960022][ out shape = (2, 2)]\n"
     ]
    }
   ],
   "source": [
    "def inference(input_tensor):\n",
    "    with tf.variable_scope('layer1-conv1'):\n",
    "\n",
    "        conv1_filter_weights = tf.get_variable('weight',\n",
    "                                              [Filter_Width,Filter_Length,num_channels,Filter_Depth],\n",
    "                                              initializer=tf.truncated_normal_initializer(stddev=0.1))\n",
    "\n",
    "        log_time_model(\"conv1_filter_weights = \"+str(conv1_filter_weights.get_shape()))\n",
    "\n",
    "        biases1 = tf.get_variable('biases',[Filter_Depth],initializer=tf.constant_initializer(0.1))\n",
    "\n",
    "        log_time_model(\"biases1 = \"+str(biases1.get_shape()))\n",
    "\n",
    "        conv1 = tf.nn.conv2d(x, conv1_filter_weights, strides = [1,1,1,1],padding='VALID')\n",
    "\n",
    "        log_time_model(\"conv1 = \"+str(conv1.get_shape()))\n",
    "\n",
    "        bias1 = tf.nn.bias_add(conv1, biases1)\n",
    "\n",
    "        log_time_model(\"bias1 = \"+str(bias1.get_shape()))\n",
    "\n",
    "        actived_conv1 = tf.nn.relu(bias1)\n",
    "\n",
    "        log_time_model(\"actived_conv1 = \"+str(actived_conv1.get_shape()))\n",
    "\n",
    "        s = (Word_Length_Default * 2 + Filter_Width) - Filter_Width +1\n",
    "        # after conv , dim(2)'s size of conv \n",
    "        log_time_model(s)\n",
    "\n",
    "        # pool1 对一个句子做pool\n",
    "        pool1 = tf.nn.max_pool(actived_conv1[:,0:Word_Length_Default - Filter_Width +1,:,:],\n",
    "                               ksize=[1,1,Word_Length_Default - Filter_Width +1,1],strides=[1,1,1,1],padding='VALID')\n",
    "\n",
    "        log_time_model(\"begin: 0:\"+str(Word_Length_Default - Filter_Width +1))\n",
    "\n",
    "        ## pool2 对第2个句子做pool\n",
    "        pool2 = tf.nn.max_pool(actived_conv1[:,Word_Length_Default +Filter_Width:s,:,:],\n",
    "                               ksize=[1,s-Word_Length_Default - Filter_Width,1 ,1],strides=[1,1,1,1],padding='VALID')\n",
    "\n",
    "        log_time_model(\"begin:\"+str(Word_Length_Default +Filter_Width+1)+\":\"+str(s))\n",
    "\n",
    "        log_time_model(\"pool1.get_shape() = \"+ str(pool1.get_shape()))\n",
    "        log_time_model(\"pool2.get_shape() = \"+ str(pool2.get_shape()))\n",
    "\n",
    "        simM = tf.get_variable('M',[Filter_Depth,Filter_Depth],initializer=tf.truncated_normal_initializer(stddev=0.1))\n",
    "        # 定义相似度矩阵 simM\n",
    "        log_time_model(\"simM = \"+str(simM.get_shape()))\n",
    "\n",
    "\n",
    "        pool1 = tf.reshape(pool1,[BatchSize,Filter_Depth])\n",
    "        log_time_model(\"pool1.get_shape() = \"+ str(pool1.get_shape()))\n",
    "\n",
    "        simmat = tf.matmul(pool1,simM)\n",
    "        log_time_model(\"simmat1 shape = \"+str(simmat.get_shape()))\n",
    "\n",
    "        simmat = tf.reshape(simmat,[BatchSize,1,1,Filter_Depth])\n",
    "        log_time_model(\"simmat reshape = \"+str(simmat.get_shape()))\n",
    "        log_time_model(\"pool2.get_shape() = \"+ str(pool2.get_shape()))\n",
    "\n",
    "        simmat = tf.matmul(simmat,pool2,transpose_b=True)\n",
    "        pool2 = tf.reshape(pool2,[BatchSize,Filter_Depth])\n",
    "        simmat = tf.reshape(simmat,[BatchSize,1])\n",
    "        log_time_model(\"pool1.get_shape() = \"+ str(pool1.get_shape()))\n",
    "        log_time_model(\" pool2 shape = \"+str(pool2.get_shape()))\n",
    "        log_time_model(\" simmat shape = \"+str(simmat.get_shape()))\n",
    "\n",
    "        out = tf.concat([pool1,simmat,pool2],1)\n",
    "        log_time_model(\" out shape = \"+str(out.get_shape()))\n",
    "\n",
    "        # NEXT STEP: MAXPOOL 定义 两个不需要训练的变量，maxpool ()\n",
    "        # 定义一个需要训练的矩阵M\n",
    "        # 两个变量矩阵相乘\n",
    "        # 拉直拼接\n",
    "        # 全连接\n",
    "        # softmax\n",
    "\n",
    "    fulljoin_num = 200\n",
    "\n",
    "    with tf.variable_scope('layer2-fulllink'):\n",
    "        weights = tf.get_variable('weight',[out.get_shape().as_list()[1],fulljoin_num],\n",
    "                                         initializer=tf.truncated_normal_initializer(stddev=0.1))\n",
    "        biases = tf.get_variable('biases',[fulljoin_num],initializer=tf.constant_initializer(0.1))\n",
    "\n",
    "        hidden = tf.nn.relu(tf.matmul(out, weights) + biases)\n",
    "\n",
    "        weights = tf.Variable(tf.truncated_normal([fulljoin_num, num_labels], stddev=0.1))\n",
    "\n",
    "        biases = tf.Variable(tf.constant(0.1, shape=[num_labels]))\n",
    "\n",
    "        out =tf.matmul(hidden, weights) + biases\n",
    "        log_time_model(\" out shape = \"+str(out.get_shape()))\n",
    "        \n",
    "        return out\n",
    "    \n",
    "out = inference(x)\n",
    "    \n",
    "# Training computation.\n",
    "loss = tf.reduce_mean(tf.nn.softmax_cross_entropy_with_logits(logits=out, labels=y))\n",
    "\n",
    "# Optimizer.\n",
    "optimizer = tf.train.GradientDescentOptimizer(0.05).minimize(loss)\n",
    "\n",
    "# Predictions for the training, validation, and test data.\n",
    "train_prediction = tf.nn.softmax(out)\n",
    "# valid_prediction = tf.nn.softmax(inference(valid_x))\n",
    "# test_prediction = tf.nn.softmax(inference(test_x))    \n",
    "      "
   ]
  },
  {
   "cell_type": "code",
   "execution_count": null,
   "metadata": {
    "collapsed": true
   },
   "outputs": [],
   "source": []
  },
  {
   "cell_type": "code",
   "execution_count": 9,
   "metadata": {
    "collapsed": false
   },
   "outputs": [],
   "source": [
    "# with tf.Session() as sess:\n",
    "#     print sess.run(a.initializer)\n",
    "#     print dir(a.get_shape()[1].value)\n",
    "#     print a.get_shape()[1].value"
   ]
  },
  {
   "cell_type": "code",
   "execution_count": 10,
   "metadata": {
    "collapsed": true
   },
   "outputs": [],
   "source": [
    "# read dataset\n",
    "def openFile():\n",
    "    pickle_file = 'dataset.pickle'\n",
    "    with open(pickle_file, 'rb') as f:\n",
    "        data = pickle.load(f)\n",
    "        ##第一个句子的样本矩阵为np.ndarray((samplesize, 300, 50), dtype=np.float32))\n",
    "        train_dataset1 = data['train_dataset1'] \n",
    "        ##第二个句子的样本矩阵为np.ndarray((samplesize, 300, 50), dtype=np.float32))\n",
    "        train_dataset2 = data['train_dataset2']\n",
    "        ##类别标识np.ndarray((samplesize, dtype = np.int32))\n",
    "        train_labels = data['train_labels']\n",
    "        ##验证集\n",
    "        valid_dataset1 = data['valid_dataset1'] \n",
    "        valid_dataset2 = data['valid_dataset2']\n",
    "        valid_labels = data['valid_labels']\n",
    "        ##测试集\n",
    "        test_dataset1 = data['test_dataset1'] \n",
    "        test_dataset2 = data['test_dataset2']"
   ]
  }
 ],
 "metadata": {
  "kernelspec": {
   "display_name": "Python 2",
   "language": "python",
   "name": "python2"
  },
  "language_info": {
   "codemirror_mode": {
    "name": "ipython",
    "version": 2
   },
   "file_extension": ".py",
   "mimetype": "text/x-python",
   "name": "python",
   "nbconvert_exporter": "python",
   "pygments_lexer": "ipython2",
   "version": "2.7.10"
  }
 },
 "nbformat": 4,
 "nbformat_minor": 0
}
